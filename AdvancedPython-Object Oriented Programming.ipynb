{
 "cells": [
  {
   "cell_type": "markdown",
   "metadata": {},
   "source": [
    "# Advanced Object-Oriented-Programming (OOP)"
   ]
  },
  {
   "cell_type": "markdown",
   "metadata": {},
   "source": [
    "## Tasks Today:\n",
    "\n",
    "1) <b>Creating Multiple Instances Through Loops</b> <br>\n",
    " &nbsp;&nbsp;&nbsp;&nbsp; a) Using Loops <br>\n",
    " &nbsp;&nbsp;&nbsp;&nbsp; b) Using Multiple Lists with Loops <br>\n",
    " &nbsp;&nbsp;&nbsp;&nbsp; c) Using List Comprehension with Classes<br>\n",
    " &nbsp;&nbsp;&nbsp;&nbsp; d) In-Class Exercise #1 <br>\n",
    "2) <b>Magic Methods</b> <br>\n",
    " &nbsp;&nbsp;&nbsp;&nbsp; a) \\__str\\__ <br>\n",
    " &nbsp;&nbsp;&nbsp;&nbsp; b) \\__add\\__ <br>\n",
    " &nbsp;&nbsp;&nbsp;&nbsp; c) Overriding Magic Methods <br>\n",
    " &nbsp;&nbsp;&nbsp;&nbsp; d) In-Class Exercise #2 <br>\n",
    "3) <b>Inheritance & Method Overriding (recap)</b> <br>\n",
    " &nbsp;&nbsp;&nbsp;&nbsp; a) Inheriting (recap)  <br>\n",
    " &nbsp;&nbsp;&nbsp;&nbsp; b) Overriding Inherited Magic Methods <br>\n",
    " &nbsp;&nbsp;&nbsp;&nbsp; c) Inheriting Multiple Classes <br>\n",
    " &nbsp;&nbsp;&nbsp;&nbsp; d) In-Class Exercise #3 <br>"
   ]
  },
  {
   "cell_type": "markdown",
   "metadata": {},
   "source": [
    "## Creating Multiple Instances Through Loops <br>\n",
    "<p>We can use loops to create multiple instances of a single object in just a couple of lines, even just one line.</p>"
   ]
  },
  {
   "cell_type": "markdown",
   "metadata": {},
   "source": [
    "#### Using Loops"
   ]
  },
  {
   "cell_type": "code",
   "execution_count": 1,
   "metadata": {},
   "outputs": [
    {
     "name": "stdout",
     "output_type": "stream",
     "text": [
      "Lassie has 4 legs\n",
      "Max has 4 legs\n",
      "Max has 0 legs\n",
      "Max has 1 legs\n",
      "Max has 2 legs\n",
      "Max has 3 legs\n",
      "Max has 4 legs\n"
     ]
    }
   ],
   "source": [
    "class Dog():\n",
    "    \n",
    "    def __init__(self,name,legs):\n",
    "        self.name = name\n",
    "        self.legs = legs\n",
    "        \n",
    "    def printinfo(self):\n",
    "        print(f'{self.name} has {self.legs} legs')\n",
    "        \n",
    "dog1 = Dog('Lassie', 4)\n",
    "dog2 = Dog('Max',4)\n",
    "\n",
    "dog1.printinfo()\n",
    "dog2.printinfo()\n",
    "\n",
    "dogs = []\n",
    "\n",
    "for i in range(5):\n",
    "    dogs.append(Dog(\"Max\",i))\n",
    "    \n",
    "for i in range(len(dogs)):\n",
    "    dogs[i].printinfo()\n",
    "        \n"
   ]
  },
  {
   "cell_type": "markdown",
   "metadata": {},
   "source": [
    "#### Using Multiple Lists with Loops"
   ]
  },
  {
   "cell_type": "code",
   "execution_count": null,
   "metadata": {},
   "outputs": [],
   "source": []
  },
  {
   "cell_type": "markdown",
   "metadata": {},
   "source": [
    "#### Using List Comprehension with Classes"
   ]
  },
  {
   "cell_type": "code",
   "execution_count": 9,
   "metadata": {},
   "outputs": [
    {
     "name": "stdout",
     "output_type": "stream",
     "text": [
      "sam has 4 legs\n",
      "max has 4 legs\n",
      "spot has 4 legs\n"
     ]
    }
   ],
   "source": [
    "names = [\"sam\", \"max\", \"spot\"]\n",
    "\n",
    "dogs = [Dog(names[i],4) for i in range(len(names))]\n",
    "\n",
    "for dog in dogs:\n",
    "    dog.printinfo()"
   ]
  },
  {
   "cell_type": "markdown",
   "metadata": {},
   "source": [
    "#### In-Class Exercise #1 - Use List Comprehension to create multiple 'Dog' objects using the lists below... <br>\n",
    "<p>names = ['max', 'lassy', 'sammi']<br>colors=['brown', 'black', 'mix']</p>"
   ]
  },
  {
   "cell_type": "code",
   "execution_count": 14,
   "metadata": {},
   "outputs": [
    {
     "name": "stdout",
     "output_type": "stream",
     "text": [
      "max is brown color\n",
      "lassy is black color\n",
      "sammi is mix color\n"
     ]
    }
   ],
   "source": [
    "# for each name there should be a color specified for each \n",
    "\n",
    "names = ['max', 'lassy', 'sammi']\n",
    "colors=['brown', 'black', 'mix']\n",
    "class Dog():\n",
    "    \n",
    "    def __init__(self,name,color):\n",
    "        self.name = name\n",
    "        self.color = color\n",
    "        \n",
    "    def printinfo(self):\n",
    "        print(f'{self.name} is {self.color} color')\n",
    "    \n",
    "dogs =[Dog(names[i],colors[i]) for i in range(len(names))]\n",
    "\n",
    "for dog in dogs:\n",
    "    dog.printinfo()\n",
    "\n"
   ]
  },
  {
   "cell_type": "markdown",
   "metadata": {},
   "source": [
    "## Magic Methods <br>\n",
    "<p>Magic methods are any method that begins and ends with two underscores... You've already seen one of them in __init__(). Magic methods are the general functionality of an object, and you have the ability to overwrite what those methods do, giving you flexibility in your program.</p>"
   ]
  },
  {
   "cell_type": "markdown",
   "metadata": {},
   "source": [
    "#### \\__str\\__ <br>\n",
    "<p>This is the output of an object when you print the object itself.</p>"
   ]
  },
  {
   "cell_type": "code",
   "execution_count": 25,
   "metadata": {},
   "outputs": [
    {
     "name": "stdout",
     "output_type": "stream",
     "text": [
      "jack is 10 years old and has 10 toes\n",
      "<__main__.Elevator object at 0x000001E95857A608>\n"
     ]
    }
   ],
   "source": [
    "class Person():\n",
    "    \n",
    "    def __init__(self,name,age,number_of_toes):\n",
    "        self.name = name\n",
    "        self.age = age\n",
    "        self.number_of_toes = number_of_toes\n",
    "        \n",
    "    def __str__(self):\n",
    "        return f\"{self.name} is {self.age} years old and has {self.number_of_toes} toes\"\n",
    "    \n",
    "jack = Person('jack','10','10')\n",
    "print(jack) # this will use the __str__ magic method\n",
    "\n",
    "class Elevator():\n",
    "    def __init__(self,floor):\n",
    "        self.floor = floor\n",
    "\n",
    "testelev = Elevator(4)\n",
    "\n",
    "testelev.__str__() # will show where it stored in memory, unless i overwrite and tell what it needs to print"
   ]
  },
  {
   "cell_type": "markdown",
   "metadata": {},
   "source": [
    "#### \\__add\\__"
   ]
  },
  {
   "cell_type": "code",
   "execution_count": 32,
   "metadata": {},
   "outputs": [
    {
     "name": "stdout",
     "output_type": "stream",
     "text": [
      "7\n"
     ]
    }
   ],
   "source": [
    "class Cat():\n",
    "    \n",
    "    def __init__(self,name,color,legs):\n",
    "        self.legs = legs\n",
    "        self.name = name\n",
    "        self.color = color\n",
    "        \n",
    "    def __add__(self,extra_legs):\n",
    "        if type(extra_legs) != int:\n",
    "            return self.legs + extra_legs.legs\n",
    "        else:\n",
    "            return self.legs + extra_legs\n",
    "\n",
    "cat1 = Cat('Max','orange',4)\n",
    "cat2 = Cat('Bozo','black', 3)\n",
    "\n",
    "legs = cat1 + cat2\n",
    "print(legs)"
   ]
  },
  {
   "cell_type": "markdown",
   "metadata": {},
   "source": [
    "#### Overriding Magic Methods"
   ]
  },
  {
   "cell_type": "code",
   "execution_count": null,
   "metadata": {},
   "outputs": [],
   "source": [
    "# see above"
   ]
  },
  {
   "cell_type": "markdown",
   "metadata": {},
   "source": [
    "#### In-Class Exercise #2 - Google another magic method and overwrite it's functionality..."
   ]
  },
  {
   "cell_type": "code",
   "execution_count": 68,
   "metadata": {},
   "outputs": [
    {
     "name": "stdout",
     "output_type": "stream",
     "text": [
      "True\n"
     ]
    }
   ],
   "source": [
    "class Cat():\n",
    "    \n",
    "    def __init__(self,name,color,legs):\n",
    "        self.legs = legs\n",
    "        self.name = name\n",
    "        self.color = color\n",
    "        \n",
    "    def __int__(self):\n",
    "        if type(self.legs) != int:\n",
    "            return int(self.legs)\n",
    "        \n",
    "    #joels ex\n",
    "    def __eq__(self,extra):\n",
    "        if self.legs == extra.legs:\n",
    "            return True\n",
    "        else:\n",
    "            return False\n",
    "        \n",
    "cat3 = Cat('Suzy','brown',5)\n",
    "cat4 = Cat('Misty','grey', 5)\n",
    "\n",
    "#cat3.__int__()\n",
    "# or\n",
    "#it(cat3)\n",
    "\n",
    "print (cat3 == cat4) # false because string \"5\" is not the same as int 5 (it isd only comparing legs )"
   ]
  },
  {
   "cell_type": "markdown",
   "metadata": {},
   "source": [
    "## Inheritance & Method Overriding (recap)"
   ]
  },
  {
   "cell_type": "markdown",
   "metadata": {},
   "source": [
    "#### Inheriting (recap)"
   ]
  },
  {
   "cell_type": "code",
   "execution_count": 73,
   "metadata": {},
   "outputs": [
    {
     "name": "stdout",
     "output_type": "stream",
     "text": [
      "This is a Mammal\n",
      "Frank is a Canine\n"
     ]
    }
   ],
   "source": [
    "class Animal():\n",
    "    \n",
    "    def __init__(self,species):\n",
    "        self.species = species\n",
    "        \n",
    "    def __str__(self):\n",
    "        return f\"This is a {self.species}\"\n",
    "    \n",
    "class Dog(Animal): # where it is inheriting from\n",
    "    \n",
    "    def __init__ (self,name,species):\n",
    "        self.name=name\n",
    "        Animal.__init__(self,species) # or could be done super().__init__(species)\n",
    "        \n",
    "    def __str__(self):\n",
    "        return f\"{self.name} is a {self.species}\" #overwrote to say name of dog and species canine\n",
    "    \n",
    "mammal = Animal(\"Mammal\")\n",
    "dog = Dog(\"Frank\", \"Canine\")\n",
    "\n",
    "print(mammal)\n",
    "print(dog)"
   ]
  },
  {
   "cell_type": "markdown",
   "metadata": {},
   "source": [
    "#### Overriding Inherited Magic Methods"
   ]
  },
  {
   "cell_type": "code",
   "execution_count": null,
   "metadata": {},
   "outputs": [],
   "source": [
    "# see above"
   ]
  },
  {
   "cell_type": "markdown",
   "metadata": {},
   "source": [
    "#### Inheriting Multiple Classes"
   ]
  },
  {
   "cell_type": "code",
   "execution_count": 76,
   "metadata": {},
   "outputs": [
    {
     "name": "stdout",
     "output_type": "stream",
     "text": [
      "Canine is part of the Max family and runs 45 mph\n"
     ]
    }
   ],
   "source": [
    "class Physics():\n",
    "    \n",
    "    def __init__(self,speed):\n",
    "        self.gravity = 9.8 #can be defined inside init or outside\n",
    "        self.speed = speed\n",
    "        \n",
    "class Animal():\n",
    "    def __init__(self,species):\n",
    "        self.species = species\n",
    "        \n",
    "    def __str__(self):\n",
    "        return f\"This is a {self.species}\"\n",
    "    \n",
    "class Dog(Animal,Physics):\n",
    "    \n",
    "    def __init__(self,species,name,speed): # this creates the order we would need to use when creating instance\n",
    "        self.name = name\n",
    "        Animal.__init__(self,species)\n",
    "        Physics.__init__(self,speed)\n",
    "        \n",
    "    def __str__(self):\n",
    "        return f\"{self.name} is part of the {self.species} family and runs {self.speed} mph\"\n",
    "    \n",
    "dog = Dog('Canine','Max',45) # need to input as follows (species, name, speed)\n",
    "\n",
    "print(dog)"
   ]
  },
  {
   "cell_type": "markdown",
   "metadata": {},
   "source": [
    "#### Homework Excersise - Create a transportation class, a physics class, and a bus class <br>\n",
    "<p>Create a transportation class, a physics class, and a bus class... Have the Bus class inherit both the transportation class and physics class. The physics class should have an attribute of speed, and print out the speed, plus have an acceleration method. The transportation class should have a 'type_of_transportation' attribute, and print the type(type_of_transportation [i.e road/air]) that is being used. The bus class should have attributes that describe the bus, such as; wheels, color, size, etc. Overwrite the __str__ method so that when you print the object, it prints out the bus information, and the speed.</p>"
   ]
  },
  {
   "cell_type": "code",
   "execution_count": 85,
   "metadata": {},
   "outputs": [
    {
     "name": "stdout",
     "output_type": "stream",
     "text": [
      "This 45ft yellow bus has 6 wheels.        \n",
      "It travels via road and has a max speed of 45mph. \n"
     ]
    }
   ],
   "source": [
    "class Transportation():\n",
    "    \n",
    "    def __init__(self,type_of_transportation = ''):\n",
    "        self.type_of_transportation = type_of_transportation\n",
    "        \n",
    "    def __str__(self):\n",
    "        return f\"{self.type_of_transportation}\"\n",
    "    \n",
    "class Physics():\n",
    "    \n",
    "    def __init__(self,speed=''):\n",
    "        self.speed = speed\n",
    "        \n",
    "    def __str__(self):\n",
    "        return f\"{self.speed}\"\n",
    "    \n",
    "class Bus(Transportation,Physics):\n",
    "    \n",
    "    def __init__(self,size,color,wheels,speed,type_of_transportation):\n",
    "        Transportation.__init__(self,type_of_transportation)\n",
    "        Physics.__init__(self,speed)\n",
    "        self.wheels = wheels\n",
    "        self.color = color\n",
    "        self.size = size\n",
    "        \n",
    "    def __str__(self):\n",
    "        return f\"This {self.size}ft {self.color} bus has {self.wheels} wheels.\\\n",
    "        \\nIt travels via {self.type_of_transportation} and has a max speed of {self.speed}mph. \"\n",
    "    \n",
    "my_bus = Bus(45,'yellow',6,45,'road')\n",
    "print(my_bus)"
   ]
  }
 ],
 "metadata": {
  "kernelspec": {
   "display_name": "Python 3",
   "language": "python",
   "name": "python3"
  },
  "language_info": {
   "codemirror_mode": {
    "name": "ipython",
    "version": 3
   },
   "file_extension": ".py",
   "mimetype": "text/x-python",
   "name": "python",
   "nbconvert_exporter": "python",
   "pygments_lexer": "ipython3",
   "version": "3.7.4"
  }
 },
 "nbformat": 4,
 "nbformat_minor": 2
}
